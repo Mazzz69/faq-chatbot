{
 "cells": [
  {
   "cell_type": "code",
   "execution_count": 3,
   "id": "f58d1783",
   "metadata": {},
   "outputs": [],
   "source": [
    "faqs = [\n",
    "    {\"question\": \"How do I reset my password\",\n",
    "     \"answer\": \"Go to Settings -> Account -> Reset Password\"},\n",
    "\n",
    "    {\"question\": \"Who do I contact for technical support?\", \n",
    "     \"answer\": \"Please email our IT helpdesk at support@company.com.\"},\n",
    "\n",
    "    {\"question\": \"Where can I find the latest marketing materials?\", \n",
    "     \"answer\": \"You can find them on the internal SharePoint under 'Marketing → Assets'.\"},\n",
    "\n",
    "    {\"question\": \"How do I access the company VPN?\", \n",
    "     \"answer\": \"Install the VPN client and log in with your company credentials.\"},\n",
    "]"
   ]
  },
  {
   "cell_type": "code",
   "execution_count": 4,
   "id": "ddf6fdcc",
   "metadata": {},
   "outputs": [
    {
     "name": "stderr",
     "output_type": "stream",
     "text": [
      "/Users/marcel/Library/Python/3.9/lib/python/site-packages/urllib3/__init__.py:35: NotOpenSSLWarning: urllib3 v2 only supports OpenSSL 1.1.1+, currently the 'ssl' module is compiled with 'LibreSSL 2.8.3'. See: https://github.com/urllib3/urllib3/issues/3020\n",
      "  warnings.warn(\n",
      "/Users/marcel/Library/Python/3.9/lib/python/site-packages/tqdm/auto.py:21: TqdmWarning: IProgress not found. Please update jupyter and ipywidgets. See https://ipywidgets.readthedocs.io/en/stable/user_install.html\n",
      "  from .autonotebook import tqdm as notebook_tqdm\n"
     ]
    }
   ],
   "source": [
    "from sentence_transformers import SentenceTransformer\n",
    "import torch\n",
    "\n",
    "model = SentenceTransformer('all-MiniLM-L6-v2')\n",
    "questions = [item[\"question\"] for item in faqs]\n",
    "\n",
    "# Compute embeddings (vectors)\n",
    "question_embeddings = model.encode(questions, convert_to_tensor=True)"
   ]
  },
  {
   "cell_type": "code",
   "execution_count": 5,
   "id": "e9b65515",
   "metadata": {},
   "outputs": [],
   "source": [
    "from sentence_transformers import util\n",
    "\n",
    "def get_answer(user_query):\n",
    "    query_embedding = model.encode(user_query, convert_to_tensor=True)\n",
    "    similarity_scores = util.cos_sim(query_embedding, question_embeddings)\n",
    "    best_match_index = torch.argmax(similarity_scores)\n",
    "    best_match_score = similarity_scores[0][best_match_index].item()\n",
    "\n",
    "    if best_match_score < 0.5:\n",
    "        return \"No idea bro. Try rephrasing or ask IT.\"\n",
    "    \n",
    "    return faqs[best_match_index][\"answer\"]\n"
   ]
  },
  {
   "cell_type": "code",
   "execution_count": 7,
   "id": "9878efe2",
   "metadata": {},
   "outputs": [
    {
     "name": "stdout",
     "output_type": "stream",
     "text": [
      "No idea bro. Try rephrasing or ask IT.\n",
      "No idea bro. Try rephrasing or ask IT.\n",
      "Install the VPN client and log in with your company credentials.\n",
      "No idea bro. Try rephrasing or ask IT.\n",
      "No idea bro. Try rephrasing or ask IT.\n",
      "No idea bro. Try rephrasing or ask IT.\n"
     ]
    }
   ],
   "source": [
    "while True:\n",
    "    query = input(\"\\nAsk me something (or type 'exit'): \")\n",
    "    if query.lower() == \"exit\":\n",
    "        break\n",
    "    print(get_answer(query))\n"
   ]
  }
 ],
 "metadata": {
  "kernelspec": {
   "display_name": "Python 3",
   "language": "python",
   "name": "python3"
  },
  "language_info": {
   "codemirror_mode": {
    "name": "ipython",
    "version": 3
   },
   "file_extension": ".py",
   "mimetype": "text/x-python",
   "name": "python",
   "nbconvert_exporter": "python",
   "pygments_lexer": "ipython3",
   "version": "3.9.6"
  }
 },
 "nbformat": 4,
 "nbformat_minor": 5
}
