{
 "cells": [
  {
   "cell_type": "code",
   "execution_count": 1,
   "id": "f58d1783",
   "metadata": {},
   "outputs": [],
   "source": [
    "faqs = [\n",
    "    {\"question\": \"How do I reset my password\",\n",
    "     \"answer\": \"Go to Settings -> Account -> Reset Password\"},\n",
    "\n",
    "    {\"question\": \"Who do I contact for technical support?\", \n",
    "     \"answer\": \"Please email our IT helpdesk at support@company.com.\"},\n",
    "\n",
    "    {\"question\": \"Where can I find the latest marketing materials?\", \n",
    "     \"answer\": \"You can find them on the internal SharePoint under 'Marketing → Assets'.\"},\n",
    "\n",
    "    {\"question\": \"How do I access the company VPN?\", \n",
    "     \"answer\": \"Install the VPN client and log in with your company credentials.\"},\n",
    "]"
   ]
  },
  {
   "cell_type": "code",
   "execution_count": null,
   "id": "ddf6fdcc",
   "metadata": {},
   "outputs": [],
   "source": [
    "from sentence_transformers import SentenceTransformer\n",
    "import torch\n",
    "\n",
    "model = SentenceTransformer('all-MiniLM-L6-v2')\n",
    "questions = [item[\"question\"] for item in faqs]\n",
    "\n",
    "# Compute embeddings (vectors)\n",
    "question_embeddings = model.encode(questions, convert_to_tensor=True)"
   ]
  }
 ],
 "metadata": {
  "kernelspec": {
   "display_name": "Python 3",
   "language": "python",
   "name": "python3"
  },
  "language_info": {
   "codemirror_mode": {
    "name": "ipython",
    "version": 3
   },
   "file_extension": ".py",
   "mimetype": "text/x-python",
   "name": "python",
   "nbconvert_exporter": "python",
   "pygments_lexer": "ipython3",
   "version": "3.10.11"
  }
 },
 "nbformat": 4,
 "nbformat_minor": 5
}
